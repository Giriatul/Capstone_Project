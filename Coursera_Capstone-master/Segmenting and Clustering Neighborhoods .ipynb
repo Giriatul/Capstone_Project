{
    "cells": [
        {
            "cell_type": "markdown",
            "metadata": {
                "collapsed": true
            },
            "source": "# Peer-graded Assignment: Segmenting and Clustering Neighborhoods in Toronto\n\nIn this assignment, I have explored, segmented, and clustered the neighborhoods in the city of Toronto. \n\nFirst, for the Toronto neighborhood data I scraped the following Wikipedia page and wrangled the data, cleaned it, and then read it into a pandas dataframe so that it is in a structured format like the New York dataset (https://en.wikipedia.org/wiki/List_of_postal_codes_of_Canada:_M).\n\nSecond, once the data was structured format, I replicated the analysis similar to the New York City dataset. I explored and clustered the neighborhoods in the city of Toronto.\n\nMy submission is a link to Jupyter Notebook on my Github repository:\nhttps://github.com/jahokas/Coursera_Capstone/blob/master/Capstone%20Project%20Notebook.ipynb"
        },
        {
            "cell_type": "markdown",
            "metadata": {},
            "source": "# 1. Introductionary tasks to the assignment"
        },
        {
            "cell_type": "markdown",
            "metadata": {},
            "source": "First we import all necessary libraries."
        },
        {
            "cell_type": "code",
            "execution_count": 1,
            "metadata": {},
            "outputs": [],
            "source": "# numpy and pandas libraries\nimport numpy as np # library to handle data in a vectorized manner\nimport pandas as pd # library for data analysis\npd.set_option('display.max_columns', None)\npd.set_option('display.max_rows', None)\n\n# import Matplotlib and associated plotting modules\nimport matplotlib.cm as cm\nimport matplotlib.colors as colors\n\n# import folium map rendering library\n!pip -q install folium\nimport folium\n\n# import library to handle requests\nimport requests\nfrom pandas.io.json import json_normalize # tranform JSON file into a pandas dataframe\n\n# import geopy to convert an address into latitude and longitude values\n!pip -q install geopy\nfrom geopy.geocoders import Nominatim\n\n# import k-means from clustering stage\nfrom sklearn.cluster import KMeans"
        },
        {
            "cell_type": "markdown",
            "metadata": {},
            "source": "Let's read the table in Wikipedia."
        },
        {
            "cell_type": "code",
            "execution_count": 2,
            "metadata": {},
            "outputs": [],
            "source": "# extract tables from the Wikipedia\nfrom pandas.io.html import read_html\nwikipage = 'https://en.wikipedia.org/wiki/List_of_postal_codes_of_Canada:_M'\n# wikitable = pd.read_html(wikipage, index_col=0)\nwikitable = read_html(wikipage)\ndf = pd.DataFrame(wikitable[0])"
        },
        {
            "cell_type": "markdown",
            "metadata": {},
            "source": "# 2. Build the code to scrape the Wikipedia page above and print the shape of the dataframe"
        },
        {
            "cell_type": "markdown",
            "metadata": {},
            "source": "Here we drop lines 'Not assigned'."
        },
        {
            "cell_type": "code",
            "execution_count": 3,
            "metadata": {},
            "outputs": [],
            "source": "df.drop(df[df['Borough'] == 'Not assigned'].index, inplace=True) #Ignore cells with a borough that is 'Not assigned'"
        },
        {
            "cell_type": "markdown",
            "metadata": {},
            "source": "Let's group Neighbourhoods with comma separation"
        },
        {
            "cell_type": "code",
            "execution_count": 4,
            "metadata": {},
            "outputs": [
                {
                    "data": {
                        "text/html": "<div>\n<style scoped>\n    .dataframe tbody tr th:only-of-type {\n        vertical-align: middle;\n    }\n\n    .dataframe tbody tr th {\n        vertical-align: top;\n    }\n\n    .dataframe thead th {\n        text-align: right;\n    }\n</style>\n<table border=\"1\" class=\"dataframe\">\n  <thead>\n    <tr style=\"text-align: right;\">\n      <th></th>\n      <th>Postcode</th>\n      <th>Borough</th>\n      <th>Neighbourhood</th>\n    </tr>\n  </thead>\n  <tbody>\n    <tr>\n      <th>0</th>\n      <td>M1B</td>\n      <td>Scarborough</td>\n      <td>Rouge, Malvern</td>\n    </tr>\n    <tr>\n      <th>1</th>\n      <td>M1C</td>\n      <td>Scarborough</td>\n      <td>Highland Creek, Rouge Hill, Port Union</td>\n    </tr>\n    <tr>\n      <th>2</th>\n      <td>M1E</td>\n      <td>Scarborough</td>\n      <td>Guildwood, Morningside, West Hill</td>\n    </tr>\n    <tr>\n      <th>3</th>\n      <td>M1G</td>\n      <td>Scarborough</td>\n      <td>Woburn</td>\n    </tr>\n    <tr>\n      <th>4</th>\n      <td>M1H</td>\n      <td>Scarborough</td>\n      <td>Cedarbrae</td>\n    </tr>\n    <tr>\n      <th>5</th>\n      <td>M1J</td>\n      <td>Scarborough</td>\n      <td>Scarborough Village</td>\n    </tr>\n    <tr>\n      <th>6</th>\n      <td>M1K</td>\n      <td>Scarborough</td>\n      <td>East Birchmount Park, Ionview, Kennedy Park</td>\n    </tr>\n    <tr>\n      <th>7</th>\n      <td>M1L</td>\n      <td>Scarborough</td>\n      <td>Clairlea, Golden Mile, Oakridge</td>\n    </tr>\n    <tr>\n      <th>8</th>\n      <td>M1M</td>\n      <td>Scarborough</td>\n      <td>Cliffcrest, Cliffside, Scarborough Village West</td>\n    </tr>\n    <tr>\n      <th>9</th>\n      <td>M1N</td>\n      <td>Scarborough</td>\n      <td>Birch Cliff, Cliffside West</td>\n    </tr>\n  </tbody>\n</table>\n</div>",
                        "text/plain": "  Postcode      Borough                                    Neighbourhood\n0      M1B  Scarborough                                   Rouge, Malvern\n1      M1C  Scarborough           Highland Creek, Rouge Hill, Port Union\n2      M1E  Scarborough                Guildwood, Morningside, West Hill\n3      M1G  Scarborough                                           Woburn\n4      M1H  Scarborough                                        Cedarbrae\n5      M1J  Scarborough                              Scarborough Village\n6      M1K  Scarborough      East Birchmount Park, Ionview, Kennedy Park\n7      M1L  Scarborough                  Clairlea, Golden Mile, Oakridge\n8      M1M  Scarborough  Cliffcrest, Cliffside, Scarborough Village West\n9      M1N  Scarborough                      Birch Cliff, Cliffside West"
                    },
                    "execution_count": 4,
                    "metadata": {},
                    "output_type": "execute_result"
                }
            ],
            "source": "df = pd.DataFrame(df.groupby(['Postcode', 'Borough'])['Neighbourhood'].apply(', '.join)).reset_index()\ndf.head(10)"
        },
        {
            "cell_type": "markdown",
            "metadata": {},
            "source": "Here we check the shape of our dataframe."
        },
        {
            "cell_type": "code",
            "execution_count": 5,
            "metadata": {},
            "outputs": [
                {
                    "data": {
                        "text/plain": "(103, 3)"
                    },
                    "execution_count": 5,
                    "metadata": {},
                    "output_type": "execute_result"
                }
            ],
            "source": "df.shape"
        },
        {
            "cell_type": "markdown",
            "metadata": {},
            "source": "# 3. Prepare a table that includes latitudes and longitudes of Areas / Neighbourhoods in Toronto"
        },
        {
            "cell_type": "markdown",
            "metadata": {},
            "source": "We will read longitudes and latitudes."
        },
        {
            "cell_type": "code",
            "execution_count": 6,
            "metadata": {},
            "outputs": [
                {
                    "data": {
                        "text/html": "<div>\n<style scoped>\n    .dataframe tbody tr th:only-of-type {\n        vertical-align: middle;\n    }\n\n    .dataframe tbody tr th {\n        vertical-align: top;\n    }\n\n    .dataframe thead th {\n        text-align: right;\n    }\n</style>\n<table border=\"1\" class=\"dataframe\">\n  <thead>\n    <tr style=\"text-align: right;\">\n      <th></th>\n      <th>Postal Code</th>\n      <th>Latitude</th>\n      <th>Longitude</th>\n    </tr>\n  </thead>\n  <tbody>\n    <tr>\n      <th>0</th>\n      <td>M1B</td>\n      <td>43.806686</td>\n      <td>-79.194353</td>\n    </tr>\n    <tr>\n      <th>1</th>\n      <td>M1C</td>\n      <td>43.784535</td>\n      <td>-79.160497</td>\n    </tr>\n    <tr>\n      <th>2</th>\n      <td>M1E</td>\n      <td>43.763573</td>\n      <td>-79.188711</td>\n    </tr>\n    <tr>\n      <th>3</th>\n      <td>M1G</td>\n      <td>43.770992</td>\n      <td>-79.216917</td>\n    </tr>\n    <tr>\n      <th>4</th>\n      <td>M1H</td>\n      <td>43.773136</td>\n      <td>-79.239476</td>\n    </tr>\n  </tbody>\n</table>\n</div>",
                        "text/plain": "  Postal Code   Latitude  Longitude\n0         M1B  43.806686 -79.194353\n1         M1C  43.784535 -79.160497\n2         M1E  43.763573 -79.188711\n3         M1G  43.770992 -79.216917\n4         M1H  43.773136 -79.239476"
                    },
                    "execution_count": 6,
                    "metadata": {},
                    "output_type": "execute_result"
                }
            ],
            "source": "geodata = 'http://cocl.us/Geospatial_data'\nlocations = pd.read_csv(geodata)\nlocations.head()"
        },
        {
            "cell_type": "markdown",
            "metadata": {},
            "source": "Here we make postcodes to indeces that makes easier to merge postal codes with data of latitudes and longitudes"
        },
        {
            "cell_type": "code",
            "execution_count": 7,
            "metadata": {},
            "outputs": [
                {
                    "data": {
                        "text/html": "<div>\n<style scoped>\n    .dataframe tbody tr th:only-of-type {\n        vertical-align: middle;\n    }\n\n    .dataframe tbody tr th {\n        vertical-align: top;\n    }\n\n    .dataframe thead th {\n        text-align: right;\n    }\n</style>\n<table border=\"1\" class=\"dataframe\">\n  <thead>\n    <tr style=\"text-align: right;\">\n      <th></th>\n      <th>Borough</th>\n      <th>Neighbourhood</th>\n    </tr>\n    <tr>\n      <th>Postcode</th>\n      <th></th>\n      <th></th>\n    </tr>\n  </thead>\n  <tbody>\n    <tr>\n      <th>M1B</th>\n      <td>Scarborough</td>\n      <td>Rouge, Malvern</td>\n    </tr>\n    <tr>\n      <th>M1C</th>\n      <td>Scarborough</td>\n      <td>Highland Creek, Rouge Hill, Port Union</td>\n    </tr>\n    <tr>\n      <th>M1E</th>\n      <td>Scarborough</td>\n      <td>Guildwood, Morningside, West Hill</td>\n    </tr>\n    <tr>\n      <th>M1G</th>\n      <td>Scarborough</td>\n      <td>Woburn</td>\n    </tr>\n    <tr>\n      <th>M1H</th>\n      <td>Scarborough</td>\n      <td>Cedarbrae</td>\n    </tr>\n  </tbody>\n</table>\n</div>",
                        "text/plain": "              Borough                           Neighbourhood\nPostcode                                                     \nM1B       Scarborough                          Rouge, Malvern\nM1C       Scarborough  Highland Creek, Rouge Hill, Port Union\nM1E       Scarborough       Guildwood, Morningside, West Hill\nM1G       Scarborough                                  Woburn\nM1H       Scarborough                               Cedarbrae"
                    },
                    "execution_count": 7,
                    "metadata": {},
                    "output_type": "execute_result"
                }
            ],
            "source": "df.set_index('Postcode').head()"
        },
        {
            "cell_type": "markdown",
            "metadata": {},
            "source": "Here we make a table that includes latitudes and longitudes in post codes."
        },
        {
            "cell_type": "code",
            "execution_count": 8,
            "metadata": {},
            "outputs": [
                {
                    "data": {
                        "text/html": "<div>\n<style scoped>\n    .dataframe tbody tr th:only-of-type {\n        vertical-align: middle;\n    }\n\n    .dataframe tbody tr th {\n        vertical-align: top;\n    }\n\n    .dataframe thead th {\n        text-align: right;\n    }\n</style>\n<table border=\"1\" class=\"dataframe\">\n  <thead>\n    <tr style=\"text-align: right;\">\n      <th></th>\n      <th>Latitude</th>\n      <th>Longitude</th>\n    </tr>\n    <tr>\n      <th>Postal Code</th>\n      <th></th>\n      <th></th>\n    </tr>\n  </thead>\n  <tbody>\n    <tr>\n      <th>M1B</th>\n      <td>43.806686</td>\n      <td>-79.194353</td>\n    </tr>\n    <tr>\n      <th>M1C</th>\n      <td>43.784535</td>\n      <td>-79.160497</td>\n    </tr>\n    <tr>\n      <th>M1E</th>\n      <td>43.763573</td>\n      <td>-79.188711</td>\n    </tr>\n    <tr>\n      <th>M1G</th>\n      <td>43.770992</td>\n      <td>-79.216917</td>\n    </tr>\n    <tr>\n      <th>M1H</th>\n      <td>43.773136</td>\n      <td>-79.239476</td>\n    </tr>\n  </tbody>\n</table>\n</div>",
                        "text/plain": "              Latitude  Longitude\nPostal Code                      \nM1B          43.806686 -79.194353\nM1C          43.784535 -79.160497\nM1E          43.763573 -79.188711\nM1G          43.770992 -79.216917\nM1H          43.773136 -79.239476"
                    },
                    "execution_count": 8,
                    "metadata": {},
                    "output_type": "execute_result"
                }
            ],
            "source": "locations.set_index('Postal Code').head()"
        },
        {
            "cell_type": "markdown",
            "metadata": {},
            "source": "Let's see if we can merge latitudes and longitudes to the postcodes."
        },
        {
            "cell_type": "code",
            "execution_count": 9,
            "metadata": {},
            "outputs": [
                {
                    "data": {
                        "text/html": "<div>\n<style scoped>\n    .dataframe tbody tr th:only-of-type {\n        vertical-align: middle;\n    }\n\n    .dataframe tbody tr th {\n        vertical-align: top;\n    }\n\n    .dataframe thead th {\n        text-align: right;\n    }\n</style>\n<table border=\"1\" class=\"dataframe\">\n  <thead>\n    <tr style=\"text-align: right;\">\n      <th></th>\n      <th>Postcode</th>\n      <th>Borough</th>\n      <th>Neighbourhood</th>\n      <th>Latitude</th>\n      <th>Longitude</th>\n    </tr>\n  </thead>\n  <tbody>\n    <tr>\n      <th>0</th>\n      <td>M1B</td>\n      <td>Scarborough</td>\n      <td>Rouge, Malvern</td>\n      <td>43.806686</td>\n      <td>-79.194353</td>\n    </tr>\n    <tr>\n      <th>1</th>\n      <td>M1C</td>\n      <td>Scarborough</td>\n      <td>Highland Creek, Rouge Hill, Port Union</td>\n      <td>43.784535</td>\n      <td>-79.160497</td>\n    </tr>\n    <tr>\n      <th>2</th>\n      <td>M1E</td>\n      <td>Scarborough</td>\n      <td>Guildwood, Morningside, West Hill</td>\n      <td>43.763573</td>\n      <td>-79.188711</td>\n    </tr>\n    <tr>\n      <th>3</th>\n      <td>M1G</td>\n      <td>Scarborough</td>\n      <td>Woburn</td>\n      <td>43.770992</td>\n      <td>-79.216917</td>\n    </tr>\n    <tr>\n      <th>4</th>\n      <td>M1H</td>\n      <td>Scarborough</td>\n      <td>Cedarbrae</td>\n      <td>43.773136</td>\n      <td>-79.239476</td>\n    </tr>\n    <tr>\n      <th>5</th>\n      <td>M1J</td>\n      <td>Scarborough</td>\n      <td>Scarborough Village</td>\n      <td>43.744734</td>\n      <td>-79.239476</td>\n    </tr>\n    <tr>\n      <th>6</th>\n      <td>M1K</td>\n      <td>Scarborough</td>\n      <td>East Birchmount Park, Ionview, Kennedy Park</td>\n      <td>43.727929</td>\n      <td>-79.262029</td>\n    </tr>\n    <tr>\n      <th>7</th>\n      <td>M1L</td>\n      <td>Scarborough</td>\n      <td>Clairlea, Golden Mile, Oakridge</td>\n      <td>43.711112</td>\n      <td>-79.284577</td>\n    </tr>\n    <tr>\n      <th>8</th>\n      <td>M1M</td>\n      <td>Scarborough</td>\n      <td>Cliffcrest, Cliffside, Scarborough Village West</td>\n      <td>43.716316</td>\n      <td>-79.239476</td>\n    </tr>\n    <tr>\n      <th>9</th>\n      <td>M1N</td>\n      <td>Scarborough</td>\n      <td>Birch Cliff, Cliffside West</td>\n      <td>43.692657</td>\n      <td>-79.264848</td>\n    </tr>\n  </tbody>\n</table>\n</div>",
                        "text/plain": "  Postcode      Borough                                    Neighbourhood  \\\n0      M1B  Scarborough                                   Rouge, Malvern   \n1      M1C  Scarborough           Highland Creek, Rouge Hill, Port Union   \n2      M1E  Scarborough                Guildwood, Morningside, West Hill   \n3      M1G  Scarborough                                           Woburn   \n4      M1H  Scarborough                                        Cedarbrae   \n5      M1J  Scarborough                              Scarborough Village   \n6      M1K  Scarborough      East Birchmount Park, Ionview, Kennedy Park   \n7      M1L  Scarborough                  Clairlea, Golden Mile, Oakridge   \n8      M1M  Scarborough  Cliffcrest, Cliffside, Scarborough Village West   \n9      M1N  Scarborough                      Birch Cliff, Cliffside West   \n\n    Latitude  Longitude  \n0  43.806686 -79.194353  \n1  43.784535 -79.160497  \n2  43.763573 -79.188711  \n3  43.770992 -79.216917  \n4  43.773136 -79.239476  \n5  43.744734 -79.239476  \n6  43.727929 -79.262029  \n7  43.711112 -79.284577  \n8  43.716316 -79.239476  \n9  43.692657 -79.264848  "
                    },
                    "execution_count": 9,
                    "metadata": {},
                    "output_type": "execute_result"
                }
            ],
            "source": "df = pd.merge(df, locations, left_index = True , right_index = True ).drop(columns='Postal Code')\ndf.head(10)"
        },
        {
            "cell_type": "markdown",
            "metadata": {},
            "source": "# 4. Map of Toronto"
        },
        {
            "cell_type": "markdown",
            "metadata": {},
            "source": "Here we restict out analysis to the area around Toronto"
        },
        {
            "cell_type": "code",
            "execution_count": 10,
            "metadata": {},
            "outputs": [
                {
                    "data": {
                        "text/html": "<div>\n<style scoped>\n    .dataframe tbody tr th:only-of-type {\n        vertical-align: middle;\n    }\n\n    .dataframe tbody tr th {\n        vertical-align: top;\n    }\n\n    .dataframe thead th {\n        text-align: right;\n    }\n</style>\n<table border=\"1\" class=\"dataframe\">\n  <thead>\n    <tr style=\"text-align: right;\">\n      <th></th>\n      <th>Postcode</th>\n      <th>Borough</th>\n      <th>Neighbourhood</th>\n      <th>Latitude</th>\n      <th>Longitude</th>\n    </tr>\n  </thead>\n  <tbody>\n    <tr>\n      <th>0</th>\n      <td>M4E</td>\n      <td>East Toronto</td>\n      <td>The Beaches</td>\n      <td>43.676357</td>\n      <td>-79.293031</td>\n    </tr>\n    <tr>\n      <th>1</th>\n      <td>M4K</td>\n      <td>East Toronto</td>\n      <td>The Danforth West, Riverdale</td>\n      <td>43.679557</td>\n      <td>-79.352188</td>\n    </tr>\n    <tr>\n      <th>2</th>\n      <td>M4L</td>\n      <td>East Toronto</td>\n      <td>The Beaches West, India Bazaar</td>\n      <td>43.668999</td>\n      <td>-79.315572</td>\n    </tr>\n    <tr>\n      <th>3</th>\n      <td>M4M</td>\n      <td>East Toronto</td>\n      <td>Studio District</td>\n      <td>43.659526</td>\n      <td>-79.340923</td>\n    </tr>\n    <tr>\n      <th>4</th>\n      <td>M4N</td>\n      <td>Central Toronto</td>\n      <td>Lawrence Park</td>\n      <td>43.728020</td>\n      <td>-79.388790</td>\n    </tr>\n    <tr>\n      <th>5</th>\n      <td>M4P</td>\n      <td>Central Toronto</td>\n      <td>Davisville North</td>\n      <td>43.712751</td>\n      <td>-79.390197</td>\n    </tr>\n    <tr>\n      <th>6</th>\n      <td>M4R</td>\n      <td>Central Toronto</td>\n      <td>North Toronto West</td>\n      <td>43.715383</td>\n      <td>-79.405678</td>\n    </tr>\n    <tr>\n      <th>7</th>\n      <td>M4S</td>\n      <td>Central Toronto</td>\n      <td>Davisville</td>\n      <td>43.704324</td>\n      <td>-79.388790</td>\n    </tr>\n    <tr>\n      <th>8</th>\n      <td>M4T</td>\n      <td>Central Toronto</td>\n      <td>Moore Park, Summerhill East</td>\n      <td>43.689574</td>\n      <td>-79.383160</td>\n    </tr>\n    <tr>\n      <th>9</th>\n      <td>M4V</td>\n      <td>Central Toronto</td>\n      <td>Deer Park, Forest Hill SE, Rathnelly, South Hi...</td>\n      <td>43.686412</td>\n      <td>-79.400049</td>\n    </tr>\n    <tr>\n      <th>10</th>\n      <td>M4W</td>\n      <td>Downtown Toronto</td>\n      <td>Rosedale</td>\n      <td>43.679563</td>\n      <td>-79.377529</td>\n    </tr>\n    <tr>\n      <th>11</th>\n      <td>M4X</td>\n      <td>Downtown Toronto</td>\n      <td>Cabbagetown, St. James Town</td>\n      <td>43.667967</td>\n      <td>-79.367675</td>\n    </tr>\n    <tr>\n      <th>12</th>\n      <td>M4Y</td>\n      <td>Downtown Toronto</td>\n      <td>Church and Wellesley</td>\n      <td>43.665860</td>\n      <td>-79.383160</td>\n    </tr>\n    <tr>\n      <th>13</th>\n      <td>M5A</td>\n      <td>Downtown Toronto</td>\n      <td>Harbourfront</td>\n      <td>43.654260</td>\n      <td>-79.360636</td>\n    </tr>\n    <tr>\n      <th>14</th>\n      <td>M5B</td>\n      <td>Downtown Toronto</td>\n      <td>Ryerson, Garden District</td>\n      <td>43.657162</td>\n      <td>-79.378937</td>\n    </tr>\n    <tr>\n      <th>15</th>\n      <td>M5C</td>\n      <td>Downtown Toronto</td>\n      <td>St. James Town</td>\n      <td>43.651494</td>\n      <td>-79.375418</td>\n    </tr>\n    <tr>\n      <th>16</th>\n      <td>M5E</td>\n      <td>Downtown Toronto</td>\n      <td>Berczy Park</td>\n      <td>43.644771</td>\n      <td>-79.373306</td>\n    </tr>\n    <tr>\n      <th>17</th>\n      <td>M5G</td>\n      <td>Downtown Toronto</td>\n      <td>Central Bay Street</td>\n      <td>43.657952</td>\n      <td>-79.387383</td>\n    </tr>\n    <tr>\n      <th>18</th>\n      <td>M5H</td>\n      <td>Downtown Toronto</td>\n      <td>Adelaide, King, Richmond</td>\n      <td>43.650571</td>\n      <td>-79.384568</td>\n    </tr>\n    <tr>\n      <th>19</th>\n      <td>M5J</td>\n      <td>Downtown Toronto</td>\n      <td>Harbourfront East, Toronto Islands, Union Station</td>\n      <td>43.640816</td>\n      <td>-79.381752</td>\n    </tr>\n    <tr>\n      <th>20</th>\n      <td>M5K</td>\n      <td>Downtown Toronto</td>\n      <td>Design Exchange, Toronto Dominion Centre</td>\n      <td>43.647177</td>\n      <td>-79.381576</td>\n    </tr>\n    <tr>\n      <th>21</th>\n      <td>M5L</td>\n      <td>Downtown Toronto</td>\n      <td>Commerce Court, Victoria Hotel</td>\n      <td>43.648198</td>\n      <td>-79.379817</td>\n    </tr>\n    <tr>\n      <th>22</th>\n      <td>M5N</td>\n      <td>Central Toronto</td>\n      <td>Roselawn</td>\n      <td>43.711695</td>\n      <td>-79.416936</td>\n    </tr>\n    <tr>\n      <th>23</th>\n      <td>M5P</td>\n      <td>Central Toronto</td>\n      <td>Forest Hill North, Forest Hill West</td>\n      <td>43.696948</td>\n      <td>-79.411307</td>\n    </tr>\n    <tr>\n      <th>24</th>\n      <td>M5R</td>\n      <td>Central Toronto</td>\n      <td>The Annex, North Midtown, Yorkville</td>\n      <td>43.672710</td>\n      <td>-79.405678</td>\n    </tr>\n    <tr>\n      <th>25</th>\n      <td>M5S</td>\n      <td>Downtown Toronto</td>\n      <td>Harbord, University of Toronto</td>\n      <td>43.662696</td>\n      <td>-79.400049</td>\n    </tr>\n    <tr>\n      <th>26</th>\n      <td>M5T</td>\n      <td>Downtown Toronto</td>\n      <td>Chinatown, Grange Park, Kensington Market</td>\n      <td>43.653206</td>\n      <td>-79.400049</td>\n    </tr>\n    <tr>\n      <th>27</th>\n      <td>M5V</td>\n      <td>Downtown Toronto</td>\n      <td>CN Tower, Bathurst Quay, Island airport, Harbo...</td>\n      <td>43.628947</td>\n      <td>-79.394420</td>\n    </tr>\n    <tr>\n      <th>28</th>\n      <td>M5W</td>\n      <td>Downtown Toronto</td>\n      <td>Stn A PO Boxes 25 The Esplanade</td>\n      <td>43.646435</td>\n      <td>-79.374846</td>\n    </tr>\n    <tr>\n      <th>29</th>\n      <td>M5X</td>\n      <td>Downtown Toronto</td>\n      <td>First Canadian Place, Underground city</td>\n      <td>43.648429</td>\n      <td>-79.382280</td>\n    </tr>\n    <tr>\n      <th>30</th>\n      <td>M6G</td>\n      <td>Downtown Toronto</td>\n      <td>Christie</td>\n      <td>43.669542</td>\n      <td>-79.422564</td>\n    </tr>\n    <tr>\n      <th>31</th>\n      <td>M6H</td>\n      <td>West Toronto</td>\n      <td>Dovercourt Village, Dufferin</td>\n      <td>43.669005</td>\n      <td>-79.442259</td>\n    </tr>\n    <tr>\n      <th>32</th>\n      <td>M6J</td>\n      <td>West Toronto</td>\n      <td>Little Portugal, Trinity</td>\n      <td>43.647927</td>\n      <td>-79.419750</td>\n    </tr>\n    <tr>\n      <th>33</th>\n      <td>M6K</td>\n      <td>West Toronto</td>\n      <td>Brockton, Exhibition Place, Parkdale Village</td>\n      <td>43.636847</td>\n      <td>-79.428191</td>\n    </tr>\n    <tr>\n      <th>34</th>\n      <td>M6P</td>\n      <td>West Toronto</td>\n      <td>High Park, The Junction South</td>\n      <td>43.661608</td>\n      <td>-79.464763</td>\n    </tr>\n    <tr>\n      <th>35</th>\n      <td>M6R</td>\n      <td>West Toronto</td>\n      <td>Parkdale, Roncesvalles</td>\n      <td>43.648960</td>\n      <td>-79.456325</td>\n    </tr>\n    <tr>\n      <th>36</th>\n      <td>M6S</td>\n      <td>West Toronto</td>\n      <td>Runnymede, Swansea</td>\n      <td>43.651571</td>\n      <td>-79.484450</td>\n    </tr>\n    <tr>\n      <th>37</th>\n      <td>M7A</td>\n      <td>Downtown Toronto</td>\n      <td>Queen's Park</td>\n      <td>43.662301</td>\n      <td>-79.389494</td>\n    </tr>\n    <tr>\n      <th>38</th>\n      <td>M7Y</td>\n      <td>East Toronto</td>\n      <td>Business Reply Mail Processing Centre 969 Eastern</td>\n      <td>43.662744</td>\n      <td>-79.321558</td>\n    </tr>\n  </tbody>\n</table>\n</div>",
                        "text/plain": "   Postcode           Borough  \\\n0       M4E      East Toronto   \n1       M4K      East Toronto   \n2       M4L      East Toronto   \n3       M4M      East Toronto   \n4       M4N   Central Toronto   \n5       M4P   Central Toronto   \n6       M4R   Central Toronto   \n7       M4S   Central Toronto   \n8       M4T   Central Toronto   \n9       M4V   Central Toronto   \n10      M4W  Downtown Toronto   \n11      M4X  Downtown Toronto   \n12      M4Y  Downtown Toronto   \n13      M5A  Downtown Toronto   \n14      M5B  Downtown Toronto   \n15      M5C  Downtown Toronto   \n16      M5E  Downtown Toronto   \n17      M5G  Downtown Toronto   \n18      M5H  Downtown Toronto   \n19      M5J  Downtown Toronto   \n20      M5K  Downtown Toronto   \n21      M5L  Downtown Toronto   \n22      M5N   Central Toronto   \n23      M5P   Central Toronto   \n24      M5R   Central Toronto   \n25      M5S  Downtown Toronto   \n26      M5T  Downtown Toronto   \n27      M5V  Downtown Toronto   \n28      M5W  Downtown Toronto   \n29      M5X  Downtown Toronto   \n30      M6G  Downtown Toronto   \n31      M6H      West Toronto   \n32      M6J      West Toronto   \n33      M6K      West Toronto   \n34      M6P      West Toronto   \n35      M6R      West Toronto   \n36      M6S      West Toronto   \n37      M7A  Downtown Toronto   \n38      M7Y      East Toronto   \n\n                                        Neighbourhood   Latitude  Longitude  \n0                                         The Beaches  43.676357 -79.293031  \n1                        The Danforth West, Riverdale  43.679557 -79.352188  \n2                      The Beaches West, India Bazaar  43.668999 -79.315572  \n3                                     Studio District  43.659526 -79.340923  \n4                                       Lawrence Park  43.728020 -79.388790  \n5                                    Davisville North  43.712751 -79.390197  \n6                                  North Toronto West  43.715383 -79.405678  \n7                                          Davisville  43.704324 -79.388790  \n8                         Moore Park, Summerhill East  43.689574 -79.383160  \n9   Deer Park, Forest Hill SE, Rathnelly, South Hi...  43.686412 -79.400049  \n10                                           Rosedale  43.679563 -79.377529  \n11                        Cabbagetown, St. James Town  43.667967 -79.367675  \n12                               Church and Wellesley  43.665860 -79.383160  \n13                                       Harbourfront  43.654260 -79.360636  \n14                           Ryerson, Garden District  43.657162 -79.378937  \n15                                     St. James Town  43.651494 -79.375418  \n16                                        Berczy Park  43.644771 -79.373306  \n17                                 Central Bay Street  43.657952 -79.387383  \n18                           Adelaide, King, Richmond  43.650571 -79.384568  \n19  Harbourfront East, Toronto Islands, Union Station  43.640816 -79.381752  \n20           Design Exchange, Toronto Dominion Centre  43.647177 -79.381576  \n21                     Commerce Court, Victoria Hotel  43.648198 -79.379817  \n22                                           Roselawn  43.711695 -79.416936  \n23                Forest Hill North, Forest Hill West  43.696948 -79.411307  \n24                The Annex, North Midtown, Yorkville  43.672710 -79.405678  \n25                     Harbord, University of Toronto  43.662696 -79.400049  \n26          Chinatown, Grange Park, Kensington Market  43.653206 -79.400049  \n27  CN Tower, Bathurst Quay, Island airport, Harbo...  43.628947 -79.394420  \n28                    Stn A PO Boxes 25 The Esplanade  43.646435 -79.374846  \n29             First Canadian Place, Underground city  43.648429 -79.382280  \n30                                           Christie  43.669542 -79.422564  \n31                       Dovercourt Village, Dufferin  43.669005 -79.442259  \n32                           Little Portugal, Trinity  43.647927 -79.419750  \n33       Brockton, Exhibition Place, Parkdale Village  43.636847 -79.428191  \n34                      High Park, The Junction South  43.661608 -79.464763  \n35                             Parkdale, Roncesvalles  43.648960 -79.456325  \n36                                 Runnymede, Swansea  43.651571 -79.484450  \n37                                       Queen's Park  43.662301 -79.389494  \n38  Business Reply Mail Processing Centre 969 Eastern  43.662744 -79.321558  "
                    },
                    "execution_count": 10,
                    "metadata": {},
                    "output_type": "execute_result"
                }
            ],
            "source": "df_toronto = df[df.Borough.str.contains('oronto', case=False)].reset_index(drop=True)\ndf_toronto\n# df_toronto['Borough']"
        },
        {
            "cell_type": "markdown",
            "metadata": {},
            "source": "Here we inquire the latitude and longitude values of Toronto"
        },
        {
            "cell_type": "code",
            "execution_count": 11,
            "metadata": {},
            "outputs": [
                {
                    "name": "stdout",
                    "output_type": "stream",
                    "text": "The geograpical coordinate of Toronto are 43.653963, -79.387207.\n"
                }
            ],
            "source": "address = 'Toronto, CA'\n\ngeolocator = Nominatim(user_agent=\"ny_explorer\")\nlocation = geolocator.geocode(address)\nlatitude = location.latitude\nlongitude = location.longitude\nprint('The geograpical coordinate of Toronto are {}, {}.'.format(latitude, longitude))"
        },
        {
            "cell_type": "markdown",
            "metadata": {},
            "source": "We create a map of Toronto with neighborhoods superimposed on top."
        },
        {
            "cell_type": "code",
            "execution_count": 12,
            "metadata": {},
            "outputs": [
                {
                    "data": {
                        "text/html": "<div style=\"width:100%;\"><div style=\"position:relative;width:100%;height:0;padding-bottom:60%;\"><iframe src=\"about:blank\" style=\"position:absolute;width:100%;height:100%;left:0;top:0;border:none !important;\" data-html=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 onload=\"this.contentDocument.open();this.contentDocument.write(atob(this.getAttribute('data-html')));this.contentDocument.close();\" allowfullscreen webkitallowfullscreen mozallowfullscreen></iframe></div></div>",
                        "text/plain": "<folium.folium.Map at 0x7fcf29452c50>"
                    },
                    "execution_count": 12,
                    "metadata": {},
                    "output_type": "execute_result"
                }
            ],
            "source": "# create map of Toronto using latitude and longitude values\n\nmap_toronto = folium.Map(location=[latitude, longitude], zoom_start=12)\n\n# add markers to map\nfor lat, lng, borough, neighborhood in zip(df_toronto['Latitude'], df_toronto['Longitude'], df_toronto['Borough'], df_toronto['Neighbourhood']):\n    label = '{}, {}'.format(neighborhood, borough)\n    label = folium.Popup(label, parse_html=True)\n    folium.CircleMarker(\n        [lat, lng],\n        radius=5,\n        popup=label,\n        color='blue',\n        fill=True,\n        fill_color='#3186cc',\n        fill_opacity=0.7,\n        parse_html=False).add_to(map_toronto)  \n    \nmap_toronto"
        },
        {
            "cell_type": "markdown",
            "metadata": {},
            "source": "# 5. Foursquare part - locate venues around neigbourhoods"
        },
        {
            "cell_type": "markdown",
            "metadata": {},
            "source": "Here we define Foursquare Credentials and Version"
        },
        {
            "cell_type": "code",
            "execution_count": 13,
            "metadata": {},
            "outputs": [
                {
                    "name": "stdout",
                    "output_type": "stream",
                    "text": "Your credentails:\nCLIENT_ID: 0FCBIGWFDP2POC2XD0N42WNDORURPZH1WOT035YW3RZPKMMI\nCLIENT_SECRET:NM1SU41QBCKUMK0L2U3H2PTHADXSRSWYD04C231ZMHGN4YJB\n"
                }
            ],
            "source": "CLIENT_ID = '0FCBIGWFDP2POC2XD0N42WNDORURPZH1WOT035YW3RZPKMMI' # your Foursquare ID\nCLIENT_SECRET = 'NM1SU41QBCKUMK0L2U3H2PTHADXSRSWYD04C231ZMHGN4YJB' # your Foursquare Secret\nVERSION = '20180605' # Foursquare API version\n\nprint('Your credentails:')\nprint('CLIENT_ID: ' + CLIENT_ID)\nprint('CLIENT_SECRET:' + CLIENT_SECRET)"
        },
        {
            "cell_type": "markdown",
            "metadata": {},
            "source": "Let's explore the tenth neighborhood in our dataframe"
        },
        {
            "cell_type": "code",
            "execution_count": 14,
            "metadata": {},
            "outputs": [
                {
                    "data": {
                        "text/plain": "'Rosedale'"
                    },
                    "execution_count": 14,
                    "metadata": {},
                    "output_type": "execute_result"
                }
            ],
            "source": "df_toronto.loc[10, 'Neighbourhood'] # one arbitary neighborhood's name"
        },
        {
            "cell_type": "markdown",
            "metadata": {},
            "source": "We will get the neighborhood's latitude and longitude values."
        },
        {
            "cell_type": "code",
            "execution_count": 15,
            "metadata": {},
            "outputs": [
                {
                    "name": "stdout",
                    "output_type": "stream",
                    "text": "Latitude and longitude values of Rosedale are 43.6795626, -79.37752940000001.\n"
                }
            ],
            "source": "neighborhood_latitude = df_toronto.loc[10, 'Latitude'] # neighborhood latitude value\nneighborhood_longitude = df_toronto.loc[10, 'Longitude'] # neighborhood longitude value\n\nneighborhood_name = df_toronto.loc[10, 'Neighbourhood'] # neighborhood name\n\nprint('Latitude and longitude values of {} are {}, {}.'.format(neighborhood_name, \n                                                               neighborhood_latitude, \n                                                               neighborhood_longitude))"
        },
        {
            "cell_type": "markdown",
            "metadata": {},
            "source": "Now, let's get the top 100 venues that are in Rosedale within a radius of 1000 meters"
        },
        {
            "cell_type": "code",
            "execution_count": 16,
            "metadata": {},
            "outputs": [
                {
                    "data": {
                        "text/plain": "'https://api.foursquare.com/v2/venues/explore?&client_id=0FCBIGWFDP2POC2XD0N42WNDORURPZH1WOT035YW3RZPKMMI&client_secret=NM1SU41QBCKUMK0L2U3H2PTHADXSRSWYD04C231ZMHGN4YJB&v=20180605&ll=43.6795626,-79.37752940000001&radius=1000&limit=100'"
                    },
                    "execution_count": 16,
                    "metadata": {},
                    "output_type": "execute_result"
                }
            ],
            "source": "LIMIT = 100 # limit of number of venues returned by Foursquare API\nradius = 1000 # define radius\n# create URL\nurl = 'https://api.foursquare.com/v2/venues/explore?&client_id={}&client_secret={}&v={}&ll={},{}&radius={}&limit={}'.format(\n    CLIENT_ID, \n    CLIENT_SECRET, \n    VERSION, \n    neighborhood_latitude, \n    neighborhood_longitude, \n    radius, \n    LIMIT)\nurl # display URL"
        },
        {
            "cell_type": "markdown",
            "metadata": {},
            "source": "Here we send the GET request and examine the resutls"
        },
        {
            "cell_type": "code",
            "execution_count": 17,
            "metadata": {},
            "outputs": [
                {
                    "data": {
                        "text/plain": "{'meta': {'code': 429,\n  'errorType': 'quota_exceeded',\n  'errorDetail': 'Quota exceeded',\n  'requestId': '5e6fbe92aba297001bc30c06'},\n 'response': {}}"
                    },
                    "execution_count": 17,
                    "metadata": {},
                    "output_type": "execute_result"
                }
            ],
            "source": "results = requests.get(url).json()\nresults"
        },
        {
            "cell_type": "markdown",
            "metadata": {},
            "source": "Now we can borrow the get_category_type function from the Foursquare lab"
        },
        {
            "cell_type": "code",
            "execution_count": 18,
            "metadata": {},
            "outputs": [],
            "source": "# function that extracts the category of the venue\ndef get_category_type(row):\n    try:\n        categories_list = row['categories']\n    except:\n        categories_list = row['venue.categories']\n        \n    if len(categories_list) == 0:\n        return None\n    else:\n        return categories_list[0]['name']"
        },
        {
            "cell_type": "markdown",
            "metadata": {},
            "source": "Now we are ready to clean the json and structure it into a pandas dataframe"
        },
        {
            "cell_type": "code",
            "execution_count": 19,
            "metadata": {},
            "outputs": [
                {
                    "ename": "KeyError",
                    "evalue": "'groups'",
                    "output_type": "error",
                    "traceback": [
                        "\u001b[0;31m---------------------------------------------------------------------------\u001b[0m",
                        "\u001b[0;31mKeyError\u001b[0m                                  Traceback (most recent call last)",
                        "\u001b[0;32m<ipython-input-19-53c7dde730be>\u001b[0m in \u001b[0;36m<module>\u001b[0;34m\u001b[0m\n\u001b[0;32m----> 1\u001b[0;31m \u001b[0mvenues\u001b[0m \u001b[0;34m=\u001b[0m \u001b[0mresults\u001b[0m\u001b[0;34m[\u001b[0m\u001b[0;34m'response'\u001b[0m\u001b[0;34m]\u001b[0m\u001b[0;34m[\u001b[0m\u001b[0;34m'groups'\u001b[0m\u001b[0;34m]\u001b[0m\u001b[0;34m[\u001b[0m\u001b[0;36m0\u001b[0m\u001b[0;34m]\u001b[0m\u001b[0;34m[\u001b[0m\u001b[0;34m'items'\u001b[0m\u001b[0;34m]\u001b[0m\u001b[0;34m\u001b[0m\u001b[0;34m\u001b[0m\u001b[0m\n\u001b[0m\u001b[1;32m      2\u001b[0m \u001b[0;34m\u001b[0m\u001b[0m\n\u001b[1;32m      3\u001b[0m \u001b[0mnearby_venues\u001b[0m \u001b[0;34m=\u001b[0m \u001b[0mjson_normalize\u001b[0m\u001b[0;34m(\u001b[0m\u001b[0mvenues\u001b[0m\u001b[0;34m)\u001b[0m \u001b[0;31m# flatten JSON\u001b[0m\u001b[0;34m\u001b[0m\u001b[0;34m\u001b[0m\u001b[0m\n\u001b[1;32m      4\u001b[0m \u001b[0;34m\u001b[0m\u001b[0m\n\u001b[1;32m      5\u001b[0m \u001b[0;31m# filter columns\u001b[0m\u001b[0;34m\u001b[0m\u001b[0;34m\u001b[0m\u001b[0;34m\u001b[0m\u001b[0m\n",
                        "\u001b[0;31mKeyError\u001b[0m: 'groups'"
                    ]
                }
            ],
            "source": "venues = results['response']['groups'][0]['items']\n    \nnearby_venues = json_normalize(venues) # flatten JSON\n\n# filter columns\nfiltered_columns = ['venue.name', 'venue.categories', 'venue.location.lat', 'venue.location.lng']\nnearby_venues =nearby_venues.loc[:, filtered_columns]\n\n# filter the category for each row\nnearby_venues['venue.categories'] = nearby_venues.apply(get_category_type, axis=1)\n\n# clean columns\nnearby_venues.columns = [col.split(\".\")[-1] for col in nearby_venues.columns]\n\nnearby_venues.head(10)"
        },
        {
            "cell_type": "markdown",
            "metadata": {},
            "source": "And how many venues were returned by Foursquare?"
        },
        {
            "cell_type": "code",
            "execution_count": null,
            "metadata": {},
            "outputs": [],
            "source": "print('{} venues were returned by Foursquare.'.format(nearby_venues.shape[0]))"
        },
        {
            "cell_type": "markdown",
            "metadata": {},
            "source": "# 6. Explore Neighborhoods in Toronto"
        },
        {
            "cell_type": "markdown",
            "metadata": {},
            "source": "Let's create a function to repeat the same process to all the neighborhoods in Toronto."
        },
        {
            "cell_type": "code",
            "execution_count": null,
            "metadata": {},
            "outputs": [],
            "source": "# changed radius from 500 to 300\ndef getNearbyVenues(names, latitudes, longitudes, radius=300):\n    \n    venues_list=[]\n    for name, lat, lng in zip(names, latitudes, longitudes):\n        print(name)\n            \n        # create the API request URL\n        url = 'https://api.foursquare.com/v2/venues/explore?&client_id={}&client_secret={}&v={}&ll={},{}&radius={}&limit={}'.format(\n            CLIENT_ID, \n            CLIENT_SECRET, \n            VERSION, \n            lat, \n            lng, \n            radius, \n            LIMIT)\n            \n        # make the GET request\n        results = requests.get(url).json()[\"response\"]['groups'][0]['items']\n        \n        # return only relevant information for each nearby venue\n        venues_list.append([(\n            name, \n            lat, \n            lng, \n            v['venue']['name'], \n            v['venue']['location']['lat'], \n            v['venue']['location']['lng'],  \n            v['venue']['categories'][0]['name']) for v in results])\n\n    nearby_venues = pd.DataFrame([item for venue_list in venues_list for item in venue_list])\n    nearby_venues.columns = ['Neighborhood', \n                  'Neighborhood Latitude', \n                  'Neighborhood Longitude', \n                  'Venue', \n                  'Venue Latitude', \n                  'Venue Longitude', \n                  'Venue Category']\n    \n    return(nearby_venues)"
        },
        {
            "cell_type": "markdown",
            "metadata": {},
            "source": "Now write the code to run the above function on each neighborhood and create a new dataframe called toronto_venues."
        },
        {
            "cell_type": "code",
            "execution_count": null,
            "metadata": {},
            "outputs": [],
            "source": "toronto_venues = getNearbyVenues(names=df_toronto['Neighbourhood'],\n                                   latitudes=df_toronto['Latitude'],\n                                   longitudes=df_toronto['Longitude']\n                                  )"
        },
        {
            "cell_type": "markdown",
            "metadata": {},
            "source": "Let's check the size of the resulting dataframe"
        },
        {
            "cell_type": "code",
            "execution_count": null,
            "metadata": {},
            "outputs": [],
            "source": "print(toronto_venues.shape)\ntoronto_venues.head(10)"
        },
        {
            "cell_type": "markdown",
            "metadata": {},
            "source": "Let's check how many venues were returned for each neighborhood"
        },
        {
            "cell_type": "code",
            "execution_count": null,
            "metadata": {},
            "outputs": [],
            "source": "toronto_venues.groupby('Neighborhood').count()"
        },
        {
            "cell_type": "markdown",
            "metadata": {},
            "source": "Let's find out how many unique categories can be curated from all the returned venues"
        },
        {
            "cell_type": "code",
            "execution_count": null,
            "metadata": {},
            "outputs": [],
            "source": "print('There are {} uniques categories.'.format(len(toronto_venues['Venue Category'].unique())))"
        },
        {
            "cell_type": "markdown",
            "metadata": {},
            "source": "# 7. Analyze Each Neighborhood"
        },
        {
            "cell_type": "code",
            "execution_count": null,
            "metadata": {},
            "outputs": [],
            "source": "# one hot encoding\ntoronto_onehot = pd.get_dummies(toronto_venues[['Venue Category']], prefix=\"\", prefix_sep=\"\")\n\n# add neighborhood column back to dataframe\ntoronto_onehot['Neighborhood'] = toronto_venues['Neighborhood'] \n\n# move neighborhood column to the first column\nfixed_columns = [toronto_onehot.columns[-1]] + list(toronto_onehot.columns[:-1])\ntoronto_onehot = toronto_onehot[fixed_columns]\n\ntoronto_onehot.head()"
        },
        {
            "cell_type": "code",
            "execution_count": null,
            "metadata": {},
            "outputs": [],
            "source": "toronto_onehot.shape"
        },
        {
            "cell_type": "markdown",
            "metadata": {},
            "source": "Next, let's group rows by neighborhood and by taking the mean of the frequency of occurrence of each category."
        },
        {
            "cell_type": "code",
            "execution_count": null,
            "metadata": {},
            "outputs": [],
            "source": "toronto_grouped = toronto_onehot.groupby('Neighborhood').mean().reset_index()\ntoronto_grouped"
        },
        {
            "cell_type": "markdown",
            "metadata": {},
            "source": "Let's confirm the new size."
        },
        {
            "cell_type": "code",
            "execution_count": null,
            "metadata": {},
            "outputs": [],
            "source": "toronto_grouped.shape"
        },
        {
            "cell_type": "markdown",
            "metadata": {},
            "source": "Let's print each neighborhood along with the top 5 most common venues."
        },
        {
            "cell_type": "code",
            "execution_count": null,
            "metadata": {},
            "outputs": [],
            "source": "num_top_venues = 5\n\nfor hood in toronto_grouped['Neighborhood']:\n    print(\"----\"+hood+\"----\")\n    temp = toronto_grouped[toronto_grouped['Neighborhood'] == hood].T.reset_index()\n    temp.columns = ['venue','freq']\n    temp = temp.iloc[1:]\n    temp['freq'] = temp['freq'].astype(float)\n    temp = temp.round({'freq': 2})\n    print(temp.sort_values('freq', ascending=False).reset_index(drop=True).head(num_top_venues))\n    print('\\n')"
        },
        {
            "cell_type": "markdown",
            "metadata": {},
            "source": "Let's put that into a pandas dataframe."
        },
        {
            "cell_type": "markdown",
            "metadata": {},
            "source": "First, let's write a function to sort the venues in descending order."
        },
        {
            "cell_type": "code",
            "execution_count": null,
            "metadata": {},
            "outputs": [],
            "source": "def return_most_common_venues(row, num_top_venues):\n    row_categories = row.iloc[1:]\n    row_categories_sorted = row_categories.sort_values(ascending=False)\n    \n    return row_categories_sorted.index.values[0:num_top_venues]"
        },
        {
            "cell_type": "markdown",
            "metadata": {},
            "source": "Now let's create the new dataframe and display the top 10 venues for each neighborhood."
        },
        {
            "cell_type": "code",
            "execution_count": null,
            "metadata": {
                "scrolled": true
            },
            "outputs": [],
            "source": "num_top_venues = 10\n\nindicators = ['st', 'nd', 'rd']\n\n# create columns according to number of top venues\ncolumns = ['Neighborhood']\nfor ind in np.arange(num_top_venues):\n    try:\n        columns.append('{}{} Most Common Venue'.format(ind+1, indicators[ind]))\n    except:\n        columns.append('{}th Most Common Venue'.format(ind+1))\n\n# create a new dataframe\nneighborhoods_venues_sorted = pd.DataFrame(columns=columns)\nneighborhoods_venues_sorted['Neighborhood'] = toronto_grouped['Neighborhood']\n\nfor ind in np.arange(toronto_grouped.shape[0]):\n    neighborhoods_venues_sorted.iloc[ind, 1:] = return_most_common_venues(toronto_grouped.iloc[ind, :], num_top_venues)\n\nneighborhoods_venues_sorted.head()"
        },
        {
            "cell_type": "markdown",
            "metadata": {},
            "source": "# 8. Cluster Neighborhoods"
        },
        {
            "cell_type": "markdown",
            "metadata": {},
            "source": "Run k-means to cluster the neighborhood into 5 clusters."
        },
        {
            "cell_type": "code",
            "execution_count": null,
            "metadata": {},
            "outputs": [],
            "source": "# set number of clusters\nkclusters = 5\n\ntoronto_grouped_clustering = toronto_grouped.drop('Neighborhood', 1)\n\n# run k-means clustering\n# kmeans = KMeans(n_clusters=kclusters, random_state=0).fit(toronto_grouped_clustering)\nkmeans = KMeans(init=\"k-means++\", n_clusters=kclusters, random_state=0, n_init=12).fit(toronto_grouped_clustering)\n\n# check cluster labels generated for each row in the dataframe\nkmeans.labels_[0:10]"
        },
        {
            "cell_type": "markdown",
            "metadata": {},
            "source": "Let's create a new dataframe that includes the cluster as well as the top 10 venues for each neighborhood."
        },
        {
            "cell_type": "code",
            "execution_count": null,
            "metadata": {},
            "outputs": [],
            "source": "# add clustering labels\nneighborhoods_venues_sorted.insert(0, 'Cluster Labels', kmeans.labels_)\n\ntoronto_merged = df_toronto\n\n# merge toronto_grouped with toronto_data to add latitude/longitude for each neighborhood\ntoronto_merged = toronto_merged.join(neighborhoods_venues_sorted.set_index('Neighborhood'), on='Neighborhood')\n\ntoronto_merged.head() # check the last columns!\n\n# KeyError: 'Neighborhood'"
        },
        {
            "cell_type": "code",
            "execution_count": null,
            "metadata": {},
            "outputs": [],
            "source": "toronto_merged.head()"
        },
        {
            "cell_type": "markdown",
            "metadata": {},
            "source": "Finally, let's visualize the resulting clusters."
        },
        {
            "cell_type": "code",
            "execution_count": null,
            "metadata": {},
            "outputs": [],
            "source": "# create map\nmap_clusters = folium.Map(location=[latitude, longitude], zoom_start=11)\n\n# set color scheme for the clusters\nx = np.arange(kclusters)\nys = [i + x + (i*x)**2 for i in range(kclusters)]\ncolors_array = cm.rainbow(np.linspace(0, 1, len(ys)))\nrainbow = [colors.rgb2hex(i) for i in colors_array]\n\n# add markers to the map\nmarkers_colors = []\nfor lat, lon, poi, cluster in zip(toronto_merged['Latitude'], toronto_merged['Longitude'], toronto_merged['Neighborhood'], toronto_merged['Cluster Labels']):\n    label = folium.Popup(str(poi) + ' Cluster ' + str(cluster), parse_html=True)\n    folium.CircleMarker(\n        [lat, lon],\n        radius=5,\n        popup=label,\n        color=rainbow[cluster-1],\n        fill=True,\n        fill_color=rainbow[cluster-1],\n        fill_opacity=0.7).add_to(map_clusters)\n       \nmap_clusters"
        },
        {
            "cell_type": "markdown",
            "metadata": {},
            "source": "# 9. Examine Clusters"
        },
        {
            "cell_type": "markdown",
            "metadata": {},
            "source": "Now, you can examine each cluster and determine the discriminating venue categories that distinguish each cluster. Based on the defining categories, you can then assign a name to each cluster."
        },
        {
            "cell_type": "markdown",
            "metadata": {},
            "source": "**Cluster 1**"
        },
        {
            "cell_type": "code",
            "execution_count": null,
            "metadata": {},
            "outputs": [],
            "source": "toronto_merged.loc[toronto_merged['Cluster Labels'] == 0, toronto_merged.columns[[1] + list(range(5, toronto_merged.shape[1]))]]"
        },
        {
            "cell_type": "markdown",
            "metadata": {},
            "source": "**Cluster 2**"
        },
        {
            "cell_type": "code",
            "execution_count": null,
            "metadata": {},
            "outputs": [],
            "source": "toronto_merged.loc[toronto_merged['Cluster Labels'] == 1, toronto_merged.columns[[1] + list(range(5, toronto_merged.shape[1]))]]"
        },
        {
            "cell_type": "markdown",
            "metadata": {},
            "source": "**Cluster 3**"
        },
        {
            "cell_type": "markdown",
            "metadata": {},
            "source": "**Cluster 4**"
        },
        {
            "cell_type": "markdown",
            "metadata": {},
            "source": "**Cluster 5**"
        }
    ],
    "metadata": {
        "kernelspec": {
            "display_name": "Python 3.6",
            "language": "python",
            "name": "python3"
        },
        "language_info": {
            "codemirror_mode": {
                "name": "ipython",
                "version": 3
            },
            "file_extension": ".py",
            "mimetype": "text/x-python",
            "name": "python",
            "nbconvert_exporter": "python",
            "pygments_lexer": "ipython3",
            "version": "3.6.9"
        }
    },
    "nbformat": 4,
    "nbformat_minor": 1
}